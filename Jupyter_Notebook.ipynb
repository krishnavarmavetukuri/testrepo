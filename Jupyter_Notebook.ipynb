{
 "cells": [
  {
   "cell_type": "markdown",
   "metadata": {},
   "source": [
    "<center>\n",
    "    <img src=\"https://s3-api.us-geo.objectstorage.softlayer.net/cf-courses-data/CognitiveClass/Logos/organization_logo/organization_logo.png\" width=\"300\" alt=\"cognitiveclass.ai logo\"  />\n",
    "</center>\n"
   ]
  },
  {
   "cell_type": "markdown",
   "metadata": {
    "jp-MarkdownHeadingCollapsed": true,
    "tags": []
   },
   "source": [
    "#### Add your code below following the instructions given in the course\n"
   ]
  },
  {
   "cell_type": "markdown",
   "metadata": {
    "tags": []
   },
   "source": [
    "## My Jupyter Notebook on IBM Watson Studio"
   ]
  },
  {
   "cell_type": "markdown",
   "metadata": {},
   "source": [
    "**KRISHNA VARMA VETUKURI**\n",
    "\n",
    "My current occupation is Student and my desired occupation is Data Scientist."
   ]
  },
  {
   "cell_type": "markdown",
   "metadata": {},
   "source": [
    "*Why I am Interested in Data Science?*\n",
    "\n",
    "*I am interested in data science because I love mathematics and I always have a curious mind for solving related problems.\n",
    " I like to manage the given data and I would like to explore more in Data Science with the help of Python.*"
   ]
  },
  {
   "cell_type": "markdown",
   "metadata": {},
   "source": [
    "### The Code is about Squaring the given number. \n",
    "### Which means that the given number is multiplied by itself."
   ]
  },
  {
   "cell_type": "code",
   "execution_count": 12,
   "metadata": {},
   "outputs": [
    {
     "name": "stdin",
     "output_type": "stream",
     "text": [
      "Enter any Number:  4\n"
     ]
    },
    {
     "name": "stdout",
     "output_type": "stream",
     "text": [
      "The Square of the given number: 16\n"
     ]
    }
   ],
   "source": [
    "n = int(input(\"Enter any Number: \"))\n",
    "print(\"The Square of the given number: {}\".format(n*n))\n"
   ]
  },
  {
   "cell_type": "markdown",
   "metadata": {},
   "source": [
    "\n",
    "My Favorite sports are: \n",
    "\n",
    "<!-- 1) Bullet Points -->\n",
    "* Badminton       \n",
    "* Basketball\n",
    "* Cricket\n",
    "\n",
    "<!-- 2) Strikethrough -->\n",
    "~~Number of Bullet points are: 2~~\n",
    "\n",
    "Number of Bullet points are: 3\n",
    "\n",
    "<!-- 3) Horizontal Rule -->\n",
    "*** \n",
    "What is Jupyter Notebook for?\n",
    "<!-- 4) Blocked Quotes -->\n",
    ">The Jupyter Notebook is an open source web application that you can use to create and share documents that contain live code, equations, visualizations, and text. \n",
    "\n",
    "\n",
    "<!-- 5) Hyperlink -->\n",
    "If you want to learn Python Basic Programs then [click here](https://www.programiz.com/python-programming/examples)\n",
    "\n",
    "<!-- 3) Horizontal Rule -->\n",
    "***\n"
   ]
  },
  {
   "cell_type": "code",
   "execution_count": null,
   "metadata": {},
   "outputs": [],
   "source": []
  }
 ],
 "metadata": {
  "kernelspec": {
   "display_name": "Python",
   "language": "python",
   "name": "conda-env-python-py"
  },
  "language_info": {
   "codemirror_mode": {
    "name": "ipython",
    "version": 3
   },
   "file_extension": ".py",
   "mimetype": "text/x-python",
   "name": "python",
   "nbconvert_exporter": "python",
   "pygments_lexer": "ipython3",
   "version": "3.7.12"
  }
 },
 "nbformat": 4,
 "nbformat_minor": 4
}
