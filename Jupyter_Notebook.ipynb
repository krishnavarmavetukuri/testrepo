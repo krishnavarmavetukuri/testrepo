{
 "cells": [
  {
   "cell_type": "markdown",
   "metadata": {},
   "source": [
    "<center>\n",
    "    <img src=\"https://s3-api.us-geo.objectstorage.softlayer.net/cf-courses-data/CognitiveClass/Logos/organization_logo/organization_logo.png\" width=\"300\" alt=\"cognitiveclass.ai logo\"  />\n",
    "</center>\n"
   ]
  },
  {
   "cell_type": "markdown",
   "metadata": {
    "jp-MarkdownHeadingCollapsed": true,
    "tags": []
   },
   "source": [
    "#### Add your code below following the instructions given in the course\n"
   ]
  },
  {
   "cell_type": "markdown",
   "metadata": {
    "tags": []
   },
   "source": [
    "Cell 1:\n",
    "## My Jupyter Notebook on IBM Watson Studio"
   ]
  },
  {
   "cell_type": "markdown",
   "metadata": {},
   "source": [
    "Cell 2: \n",
    "\n",
    "**KRISHNA VARMA VETUKURI**\n",
    "\n",
    "My current occupation is Student and my desired occupation is Data Scientist."
   ]
  },
  {
   "cell_type": "markdown",
   "metadata": {},
   "source": [
    "Cell 3: \n",
    "\n",
    "*Why I am Interested in Data Science?*\n",
    "\n",
    "*I am interested in data science because I love mathematics and I always have a curious mind for solving related problems.\n",
    " I like to manage the given data and I would like to explore more in Data Science with the help of Python.*"
   ]
  },
  {
   "cell_type": "markdown",
   "metadata": {},
   "source": [
    "Cell 4: \n",
    "### The Code is about Squaring the given number. \n",
    "### Which means that the given number is multiplied by itself."
   ]
  },
  {
   "cell_type": "code",
   "execution_count": 17,
   "metadata": {},
   "outputs": [
    {
     "name": "stdin",
     "output_type": "stream",
     "text": [
      "Enter any Number:  6\n"
     ]
    },
    {
     "name": "stdout",
     "output_type": "stream",
     "text": [
      "The Entered Number: 6\n",
      "The Square of the given Number: 36\n"
     ]
    }
   ],
   "source": [
    "#Cell 5: \n",
    "n = int(input(\"Enter any Number: \"))\n",
    "print(\"The Entered Number: {}\".format(n))\n",
    "print(\"The Square of the given Number: {}\".format(n*n))\n"
   ]
  },
  {
   "cell_type": "markdown",
   "metadata": {},
   "source": [
    "Cell 6: \n",
    "\n",
    "The Cell includes:\n",
    "1.   Numbered List\n",
    "2.   Strikethrough\n",
    "3.   Horizontal Rule\n",
    "4.   Blocked Quotes\n",
    "5.   Hyperlink\n",
    "\n",
    "~~Number of items in the Numbers List are: 4~~\n",
    "\n",
    "Number of items in the Numbers List are: 5\n",
    "\n",
    "*** \n",
    "What is Jupyter Notebook for?\n",
    ">The Jupyter Notebook is an open source web application that you can use to create and share documents that contain live code, equations, visualizations, and text. \n",
    "\n",
    "If you want to learn Python Basic Programs then [click here](https://www.programiz.com/python-programming/examples)\n",
    "\n",
    "***\n"
   ]
  },
  {
   "cell_type": "code",
   "execution_count": null,
   "metadata": {},
   "outputs": [],
   "source": []
  }
 ],
 "metadata": {
  "kernelspec": {
   "display_name": "Python",
   "language": "python",
   "name": "conda-env-python-py"
  },
  "language_info": {
   "codemirror_mode": {
    "name": "ipython",
    "version": 3
   },
   "file_extension": ".py",
   "mimetype": "text/x-python",
   "name": "python",
   "nbconvert_exporter": "python",
   "pygments_lexer": "ipython3",
   "version": "3.7.12"
  }
 },
 "nbformat": 4,
 "nbformat_minor": 4
}
